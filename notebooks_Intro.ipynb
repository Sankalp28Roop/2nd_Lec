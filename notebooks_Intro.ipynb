{
  "metadata": {
    "kernelspec": {
      "name": "python",
      "display_name": "Python (Pyodide)",
      "language": "python"
    },
    "language_info": {
      "codemirror_mode": {
        "name": "python",
        "version": 3
      },
      "file_extension": ".py",
      "mimetype": "text/x-python",
      "name": "python",
      "nbconvert_exporter": "python",
      "pygments_lexer": "ipython3",
      "version": "3.8"
    }
  },
  "nbformat_minor": 5,
  "nbformat": 4,
  "cells": [
    {
      "cell_type": "code",
      "source": "def print_name():\n  print(\"My name is Sankalp.\")\n\nif __name__ == \"__main__\":\n  print_name()\n",
      "metadata": {
        "trusted": true
      },
      "execution_count": 2,
      "outputs": [
        {
          "name": "stdout",
          "text": "My name is Sankalp.\n",
          "output_type": "stream"
        }
      ],
      "id": "7984233d-893a-4f6b-82a8-fdd87a5e62ac"
    },
    {
      "cell_type": "code",
      "source": "name = \"Sankalp\"\n\nprint(type(name))\n",
      "metadata": {
        "trusted": true
      },
      "execution_count": 2,
      "outputs": [
        {
          "name": "stdout",
          "text": "<class 'str'>\n",
          "output_type": "stream"
        }
      ],
      "id": "4f9920f9-9e70-4ba7-b8f4-13a80b8245a3"
    },
    {
      "cell_type": "code",
      "source": "import datetime\n\ndef print_age():\n  current_year = datetime.datetime.now().year\n  birth_year = 2023 - 22\n\n  print(f\"I am {current_year - birth_year} years old.\")\n\nif __name__ == \"__main__\":\n  print_age()\n",
      "metadata": {
        "trusted": true
      },
      "execution_count": 4,
      "outputs": [
        {
          "name": "stdout",
          "text": "I am 22 years old.\n",
          "output_type": "stream"
        }
      ],
      "id": "7351fa66-08c4-464e-bf11-705cd952af2b"
    },
    {
      "cell_type": "code",
      "source": "def print_data_type(value):\n  print(type(value))\n\nif __name__ == \"__main__\":\n  print_data_type(\"My Dream Job b!\")\n  print_data_type(123)\n  print_data_type(3.14159)\n  print_data_type(True)\n",
      "metadata": {
        "trusted": true
      },
      "execution_count": 5,
      "outputs": [
        {
          "name": "stdout",
          "text": "<class 'str'>\n<class 'int'>\n<class 'float'>\n<class 'bool'>\n",
          "output_type": "stream"
        }
      ],
      "id": "4d2a82fb-6652-47d2-97d8-ee3cbe68acfa"
    },
    {
      "cell_type": "code",
      "source": "",
      "metadata": {},
      "execution_count": null,
      "outputs": [],
      "id": "c7ae30e3-d983-4f13-8b9d-53ebec8e726a"
    }
  ]
}